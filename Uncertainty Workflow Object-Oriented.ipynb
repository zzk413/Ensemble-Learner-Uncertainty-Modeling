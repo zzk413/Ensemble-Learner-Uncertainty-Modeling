{
 "cells": [
  {
   "cell_type": "markdown",
   "metadata": {},
   "source": [
    "<p align=\"center\">\n",
    "    <img src=\"https://github.com/GeostatsGuy/GeostatsPy/blob/master/TCG_color_logo.png?raw=true\" width=\"220\" height=\"240\" />\n",
    "\n",
    "</p>\n",
    "\n",
    "# Uncertainty in Ensemble Learners\n",
    "\n",
    "#### Zhikai (Ben) Zhong, Undergraduate Student, The University of Texas at Austin\n",
    "\n",
    "##### [LinkedIn](https://www.linkedin.com/in/benzhong)\n",
    "\n",
    "#### Supervised by:\n",
    "\n",
    "#### Michael Pyrcz, Associate Professor, University of Texas at Austin \n",
    "\n",
    "#### For PGE 376\n",
    "\n",
    "##### [Twitter](https://twitter.com/geostatsguy) | [GitHub](https://github.com/GeostatsGuy) | [Website](http://michaelpyrcz.com) | [GoogleScholar](https://scholar.google.com/citations?user=QVZ20eQAAAAJ&hl=en&oi=ao) | [Book](https://www.amazon.com/Geostatistical-Reservoir-Modeling-Michael-Pyrcz/dp/0199731446) | [YouTube](https://www.youtube.com/channel/UCLqEr-xV-ceHdXXXrTId5ig)  | [LinkedIn](https://www.linkedin.com/in/michael-pyrcz-61a648a1) | [GeostatsPy](https://github.com/GeostatsGuy/GeostatsPy)\n",
    "\n",
    "\n",
    "\n",
    "\n",
    "## Loading the required libraries\n",
    "The following code loads the required libraries."
   ]
  },
  {
   "cell_type": "code",
   "execution_count": 1,
   "metadata": {},
   "outputs": [],
   "source": [
    "import os                                                   # to set current working directory \n",
    "import math                                                 # basic calculations like square root\n",
    "from sklearn import metrics                                 # measures to check our models\n",
    "from sklearn.tree import export_graphviz                    # graphical visualization of trees\n",
    "from sklearn.preprocessing import StandardScaler            # standardize variables to mean of 0.0 and variance of 1.0\n",
    "\n",
    "from sklearn.model_selection import cross_val_score         # cross validation methods\n",
    "from sklearn import model_selection\n",
    "from sklearn.ensemble import RandomForestRegressor          # random forest method\n",
    "from sklearn.model_selection import train_test_split\n",
    "from sklearn.metrics import explained_variance_score\n",
    "from sklearn.metrics import r2_score\n",
    "\n",
    "from sklearn import tree                                    # tree program from scikit learn (package for machine learning)\n",
    "from sklearn.tree import _tree                              # for accessing tree information\n",
    "\n",
    "import random\n",
    "\n",
    "import pandas as pd                                         # DataFrames and plotting\n",
    "import pandas.plotting as pd_plot\n",
    "import numpy as np                                          # arrays and matrix math\n",
    "import matplotlib.pyplot as plt                             # plotting\n",
    "from subprocess import check_call\n",
    "\n",
    "from pylab import *\n",
    "from scipy.stats import norm\n",
    "\n",
    "from tqdm.notebook import tqdm\n",
    "import time\n",
    "\n",
    "import numpy as np\n",
    "import scipy.stats\n",
    "import seaborn as sns\n",
    "\n",
    "from ipywidgets import interact, interactive, fixed, interact_manual                      # widgets and interactivity\n",
    "from ipywidgets import widgets                            \n",
    "from ipywidgets import Layout\n",
    "from ipywidgets import Label\n",
    "from ipywidgets import VBox, HBox"
   ]
  },
  {
   "cell_type": "markdown",
   "metadata": {},
   "source": [
    "## Defining Functions\n",
    "There are two functions: \n",
    "1. **create_df (model, X_test, y_test)**\n",
    "\n",
    "\n",
    "2. **plot_df (df, dx)**\n",
    "\n",
    "The **create_df** function creates a pandas dataframe where each row represents a testing sample, first columns is the true value of the testing sample, and every column after represents the prediction of each estimators in a ensemble learner.\n",
    "\n",
    "The **plot_df** function takes in the aforementioned dataframe and returns an accuracy plot. \n"
   ]
  },
  {
   "cell_type": "code",
   "execution_count": 130,
   "metadata": {},
   "outputs": [],
   "source": [
    "test_size=[.1,.2,.3,.4,.5,.6,.7,.8,.9]\n",
    "\n",
    "class Uncertainty_Modeling(object):\n",
    "    \n",
    "    def __init__(self,filename):\n",
    "        #The dataset is composed of porosity, brittleness, permeability and other positive variables. \n",
    "        #Therefore we assume all the negative values to be 0 due to inaccuracy in measurements. \n",
    "        my_data = pd.read_csv(str(filename)) \n",
    "        num = my_data._get_numeric_data() # get the numerical values\n",
    "        num[num < 0] = 0  #filtering out unrealistic values that are less than 0\n",
    "        self.dataset=num\n",
    "        feature_cols = ['Por',\n",
    "                        'Brittle',\n",
    "                        'LogPerm',\n",
    "                        'AI',\n",
    "                        'TOC',\n",
    "                        'VR'\n",
    "                       ]\n",
    "        #We split the data into training and testing data for the purpose of cross validation.\n",
    "        #We use the command train_test_split from sklearn. \n",
    "        #We set the **random_state** variable to 0 (or any other integer) to make sure our results are reproducible. \n",
    "        X=self.dataset[feature_cols]\n",
    "        y=self.dataset.Production\n",
    "        #50% Testing 50% Training\n",
    "        self.X_train, self.X_test, self.y_train, self.y_test = train_test_split(X, y, test_size=.5, random_state=0) \n",
    "        \n",
    "    def split_data(self,test_size=.5,validate=True):\n",
    "        \n",
    "        feature_cols = ['Por',\n",
    "                        'Brittle',\n",
    "                        'LogPerm',\n",
    "                        'AI',\n",
    "                        'TOC',\n",
    "                        'VR'\n",
    "                       ]\n",
    "        #We split the data into training and testing data for the purpose of cross validation.\n",
    "        #We use the command train_test_split from sklearn. \n",
    "        #We set the **random_state** variable to 0 (or any other integer) to make sure our results are reproducible. \n",
    "        X=self.dataset[feature_cols]\n",
    "        y=self.dataset.Production\n",
    "        #50% Testing 50% Training\n",
    "        self.X_train, self.X_test, self.y_train, self.y_test = train_test_split(X, \n",
    "                                                                                y, \n",
    "                                                                                test_size=test_size, \n",
    "                                                                                random_state=42) \n",
    "        #from training dataset, randomly select 4 rows as validation data\n",
    "        #1000*.5*.008=4\n",
    "        if validate==True:\n",
    "            self.X_train, self.X_val, self.y_train, self.y_val  = train_test_split(self.X_train, \n",
    "                                                                                   self.y_train, \n",
    "                                                                                   test_size=4/len(y)/test_size, \n",
    "                                                                                   random_state=42) # 0.25 x 0.8 = 0.2\n",
    "\n",
    "    def build_RF(self, \n",
    "                 n_estimators=300, \n",
    "                 random_state=42,\n",
    "                 min_samples_leaf=None, \n",
    "                 max_features=None, \n",
    "                 max_depth=None,\n",
    "                max_leaf_nodes=None):\n",
    "        \n",
    "        model=RandomForestRegressor(n_estimators=n_estimators, \n",
    "                                    random_state=random_state, \n",
    "                                    max_depth=max_depth,\n",
    "                                   max_leaf_nodes=max_leaf_nodes,\n",
    "                                   max_features=max_features)\n",
    "        self.model=model.fit(self.X_train,self.y_train)\n",
    "        \n",
    "    def calc_accuracy(self):\n",
    "        \n",
    "        self.accuracy=explained_variance_score(self.y_test, self.model.predict(self.X_test))\n",
    "        \n",
    "#a function that creates a dataframe where each column contains an estimator's prediction\n",
    "#with the first column being the true value\n",
    "#and each row corresponds to each sample in the testing set\n",
    "    def create_df(self,validate=False):           \n",
    "        \n",
    "        y=self.y_test\n",
    "        X=self.X_test\n",
    "        if validate==True:\n",
    "            y=self.y_val\n",
    "            X=self.X_val\n",
    "        df=pd.DataFrame(y)                                 #creating the dataframe with true value in it\n",
    "        df.columns.values[0] = \"True_Value\"\n",
    "        df=df.reset_index(drop=True)\n",
    "        count=0\n",
    "        for i in self.model.estimators_:                             #looping over the model's individual estimators(trees)  \n",
    "            count+=1\n",
    "            Df=pd.DataFrame(i.predict(X))\n",
    "            Df.columns=['L='+str(count)]    \n",
    "            df=pd.concat([df, Df], axis=1)   #add each prediction to a new column \n",
    "        \n",
    "        self.df=df\n",
    "\n",
    "#a function that takes in the aforementioned dataframe\n",
    "    def calc_percentage(self,dx):\n",
    "        \n",
    "        m,n=self.df.shape\n",
    "        percentile=np.arange(0,1,dx)\n",
    "        percentage=[]\n",
    "        for i in range(0,m):                                    #looping over each row        \n",
    "            find=False; count=0\n",
    "            True_value=self.df.iloc[i,0]\n",
    "            row=self.df.iloc[i,1:]\n",
    "            while find==False and count<len(percentile):\n",
    "                for percent in percentile:                      #looping over each row\n",
    "                    down=np.percentile(row,(1-percent)/.02); up=np.percentile(row, 100-(1-percent)/.02)\n",
    "                    if True_value<=up and True_value>=down:     #finding the percentile of true value among the estimated values\n",
    "                        percentage=np.append(percentage,percent)\n",
    "                        find=True\n",
    "                        break\n",
    "                    else:\n",
    "                        count+=1\n",
    "        lst=[]\n",
    "        for i in percentile:                                    #calculating % samples in each CI\n",
    "            s=sum([1 for x in percentage if x <=i])\n",
    "            lst=np.append(lst,s)\n",
    "        lst/=m  \n",
    "        self.percentage=lst\n",
    "        \n",
    "        x=np.linspace(0,1,len(lst))\n",
    "        y=x\n",
    "        \n",
    "        #goodness measure\n",
    "        a=np.array(lst-y)\n",
    "        self.goodness=1-2*np.sum((3*np.array([1 if i>=0 else 0 for i in a])-2)*a*dx)\n",
    "        \n",
    "    def accuracy_plot(self):\n",
    "        self.calc_accuracy()\n",
    "        #the diagonal line\n",
    "        x=np.linspace(0,1,len(self.percentage))\n",
    "        y=x\n",
    "        #plotting accuracy plot  \n",
    "        textstr = '\\n'.join((\n",
    "            r'$Goodness=%.4f$' % (self.goodness, ),\n",
    "            r'$Accuracy=%.4f$' % (self.accuracy, )))\n",
    "        \n",
    "        plt.plot(x,y,'black');\n",
    "        plt.text(.5,.2,textstr,bbox={'facecolor':'grey','alpha':0.2,'pad':7})\n",
    "        plt.plot(x,np.array(self.percentage),'ro')\n",
    "        plt.xlabel('Probability Interval', fontsize=14); plt.ylabel('Proportion of Samples ', fontsize=14); \n",
    "        plt.title('Accuracy Plot', fontsize=20)\n",
    "        fill([0,1,1,0], [0,1,1,1], 'black', alpha=0.1, edgecolor='black')\n",
    "    \n",
    "    def plot_hist(self,\n",
    "                  ax,\n",
    "                  n=0,\n",
    "                  CI=.9,\n",
    "                  alpha_CI=.2,\n",
    "                  alpha_bins=.15,\n",
    "                  bins=20):\n",
    "        \n",
    "        preds=self.df.iloc[n,1:]                                 # For example, let's pick the 1st testing sample to graph\n",
    "        preds_true=float(self.df.iloc[n,0])\n",
    "        height, bins, patches=ax.hist(preds,alpha=alpha_bins,bins=bins,color='r')\n",
    "        ci = norm(*norm.fit(preds)).interval(CI)               # Confidence interval of 90%\n",
    "        ax.fill_betweenx([0, height.max()], ci[0], ci[1], color='g', alpha=alpha_CI)\n",
    "        ax.axvline(preds_true, color='k', linewidth=1,label='True Value')\n",
    "        ax.set_xlabel('Model Estimators Histogram')\n",
    "        ax.set_ylabel('Frequency')\n",
    "        ax.title.set_text('Estimator Prediction Distribution')\n",
    "    \n",
    "\n"
   ]
  },
  {
   "cell_type": "markdown",
   "metadata": {},
   "source": [
    "## Preping The Data\n",
    "\n",
    "### Loading dataset\n",
    "\n"
   ]
  },
  {
   "cell_type": "code",
   "execution_count": 132,
   "metadata": {
    "scrolled": true
   },
   "outputs": [],
   "source": [
    "Maxnodes_experiment=Uncertainty_Modeling('unconv_MV.csv')\n",
    "#Maxnodes_experiment.dataset.describe().transpose()"
   ]
  },
  {
   "cell_type": "code",
   "execution_count": 133,
   "metadata": {},
   "outputs": [],
   "source": [
    "#sns.pairplot(Maxnodes_experiment.dataset)"
   ]
  },
  {
   "cell_type": "markdown",
   "metadata": {},
   "source": [
    "## Looking At The Model\n",
    "\n",
    "### Building The Model\n",
    "\n",
    "In this example, we use randomforest regressor to predict the intial gas production with several features.\n",
    "\n",
    "We are going to create a model and then cross validate it with the testing data and give it a regression score.\n",
    "\n",
    "The best score is 1."
   ]
  },
  {
   "cell_type": "code",
   "execution_count": 134,
   "metadata": {},
   "outputs": [],
   "source": [
    "#Build model\n",
    "Maxnodes_experiment.build_RF()"
   ]
  },
  {
   "cell_type": "code",
   "execution_count": 135,
   "metadata": {},
   "outputs": [],
   "source": [
    "Maxnodes_experiment.calc_accuracy()\n",
    "#See the correlation between our model's prediction and the testing data\n",
    "#We have a pretty good score, meaning our model does a good job predicitng gas production\n",
    "#However, does our model have an accurate uncertainty model?"
   ]
  },
  {
   "cell_type": "markdown",
   "metadata": {},
   "source": [
    "### Individual Estimators\n",
    "\n",
    "Ensemble learners are consisted of many individual estimators (trees). Each individual estimators will make a prediction and we yield the final prediction from the results of those estimators predictions.\n",
    "\n",
    "We can have each individual tree make a prediction and plot their distribution in a histogram.\n",
    "\n",
    "Ideally, this should be a normal distribution. \n",
    "\n",
    "We need to be able to offer a confidence interval for our prediction.\n",
    "\n",
    "Ideally, X% of the testing samples should fall into the confidence interval of X%.\n",
    "* For instance, 95% of times, the testing sample should fall into the model's 95% confidence interval"
   ]
  },
  {
   "cell_type": "code",
   "execution_count": 137,
   "metadata": {
    "scrolled": false
   },
   "outputs": [],
   "source": [
    "#fig, ax=plt.subplots(figsize=(6,4),dpi=120)\n",
    "#Maxnodes_experiment.create_df()\n",
    "#Maxnodes_experiment.plot_hist(ax=ax,CI=.95)"
   ]
  },
  {
   "cell_type": "markdown",
   "metadata": {},
   "source": [
    "## Uncertainty Modeling\n",
    "\n",
    "### Plotting Accuracy Plot\n",
    "\n",
    "Use the previously defined functions to determine whether the model is overfitting or underfitting.\n",
    "\n",
    "We are going to plot the proportion of true data within [10,20,30,40,50,60,70,80,90]% interval. \n",
    "\n",
    "If the datapoints land in the shaded area, that means the model is **accurate but imprecise**.\n",
    "\n",
    "If the datapoints land on the line, that means the model is **accurate and precise**.\n",
    "\n",
    "If the datapoints land in the unshaded area, that means the model is **inaccurate and imprecise**."
   ]
  },
  {
   "cell_type": "code",
   "execution_count": 138,
   "metadata": {},
   "outputs": [
    {
     "data": {
      "image/png": "[encoded data removed]",
      "text/plain": [
       "<Figure size 432x432 with 1 Axes>"
      ]
     },
     "metadata": {
      "needs_background": "light"
     },
     "output_type": "display_data"
    }
   ],
   "source": [
    "Maxnodes_experiment.calc_percentage(.02)\n",
    "plt.subplots(figsize=(6,6))\n",
    "Maxnodes_experiment.accuracy_plot()"
   ]
  },
  {
   "cell_type": "code",
   "execution_count": null,
   "metadata": {},
   "outputs": [],
   "source": []
  },
  {
   "cell_type": "markdown",
   "metadata": {},
   "source": [
    "### Improving The Uncertainty Model\n",
    "The hypothesis is that we can improve the precision of our model by simplifying the each individual estimators of an ensembler learner. \n",
    "\n",
    "This could be done in many ways simply by adjusting the hyperparameters of an ensemble learner.\n",
    "\n",
    "Here are two common hyperparameters we can adjust:\n",
    "\n",
    "**1. min_samples_leaf**\n",
    "\n",
    "This controls the minimum sample of a leaf/leaves. When splitting, only nodes that contains more samples than the threshold would be split into a leaf.\n",
    "\n",
    "**2. max_depth**\n",
    "\n",
    "This controls the maximum depth an individual estimator (tree) will grow. Nodes will stop splitting once the tree depth has grown to this value.\n",
    "\n",
    "**3. max_leaf_nodes**\n",
    "\n",
    "This controls the maximum leaf nodes when trees are grown. The best nodes are kept, in terms of relative reduction in impurity.\n",
    "#### These hyperparametes affect the size of each estimator (tree)"
   ]
  },
  {
   "cell_type": "markdown",
   "metadata": {},
   "source": [
    "#### Max Leaf Nodes\n",
    "\n",
    "The default value is None. When it's none, all the trees are fully grown."
   ]
  },
  {
   "cell_type": "code",
   "execution_count": null,
   "metadata": {},
   "outputs": [],
   "source": [
    "max_nodes=[80,40,25,15,10,8]\n",
    "index=1\n",
    "for i in tqdm(max_nodes):\n",
    "    plt.subplot(2, 3, index)\n",
    "    Maxnodes_experiment.build_RF(max_leaf_nodes=i)\n",
    "    Maxnodes_experiment.create_df()\n",
    "    Maxnodes_experiment.calc_percentage(.02)\n",
    "    Maxnodes_experiment.accuracy_plot()\n",
    "    plt.title('Max Nodes='+str(i),fontsize=14)\n",
    "    index+=1\n",
    "plt.subplots_adjust(left=0.0, bottom=0.0, right=2.0, top=2.0, wspace=0.4, hspace=0.3)\n",
    "\n",
    "#As you can see from the graphs below, tree complexity affects the uncertainty model\n",
    "#When max_leaf_nodes is 5, the model is inaccurate and imprecise\n",
    "#When max_leaf_nodes gets above 10, the model starts to underfit\n",
    "#The most optimal setting would probably be 9. "
   ]
  },
  {
   "cell_type": "code",
   "execution_count": null,
   "metadata": {
    "scrolled": false
   },
   "outputs": [],
   "source": [
    "max_nodes = np.arange(5,100,1)\n",
    "goodness = []\n",
    "\n",
    "for i in tqdm(max_nodes):\n",
    "    Maxnodes_experiment.build_RF(max_leaf_nodes=i)\n",
    "    Maxnodes_experiment.create_df()\n",
    "    Maxnodes_experiment.calc_percentage(.02)\n",
    "    goodness=np.append(goodness, Maxnodes_experiment.goodness)\n"
   ]
  },
  {
   "cell_type": "code",
   "execution_count": null,
   "metadata": {
    "scrolled": false
   },
   "outputs": [],
   "source": [
    "fig, ax = plt.subplots(figsize=(6,6))\n",
    "ax.plot(max_nodes,goodness,label='Goodness Measure')\n",
    "\n",
    "ax.set_xlabel('max_leaf_nodes')\n",
    "ax.set_ylabel('Goodness Measure')"
   ]
  },
  {
   "cell_type": "markdown",
   "metadata": {},
   "source": [
    "A precise model is built here with adjusted hyperparameters. The model is validated with 4 rows of validation data. "
   ]
  },
  {
   "cell_type": "code",
   "execution_count": null,
   "metadata": {},
   "outputs": [],
   "source": [
    "Precise=Uncertainty_Modeling('unconv_MV.csv')\n",
    "Precise.split_data()\n",
    "Precise.build_RF(max_leaf_nodes=18)"
   ]
  },
  {
   "cell_type": "code",
   "execution_count": null,
   "metadata": {},
   "outputs": [],
   "source": [
    "fig, axes=plt.subplots(1,4)\n",
    "axes.flatten()\n",
    "for i in range(4):\n",
    "    Precise.create_df()\n",
    "    Precise.plot_hist(ax=axes[i],n=i, CI=.75)\n",
    "fig.tight_layout()\n",
    "fig.subplots_adjust(left=0.0, bottom=0.0, right=2.0, top=1.0, wspace=0.4, hspace=0.3)"
   ]
  },
  {
   "cell_type": "markdown",
   "metadata": {},
   "source": [
    "### Conclusion\n",
    "\n",
    "**Size of the trees affects uncertainty modeling whereas restraining splitting criterias does not seem to help with uncertainty modeling**"
   ]
  }
 ],
 "metadata": {
  "kernelspec": {
   "display_name": "Python 3",
   "language": "python",
   "name": "python3"
  },
  "language_info": {
   "codemirror_mode": {
    "name": "ipython",
    "version": 3
   },
   "file_extension": ".py",
   "mimetype": "text/x-python",
   "name": "python",
   "nbconvert_exporter": "python",
   "pygments_lexer": "ipython3",
   "version": "3.7.3"
  }
 },
 "nbformat": 4,
 "nbformat_minor": 2
}
